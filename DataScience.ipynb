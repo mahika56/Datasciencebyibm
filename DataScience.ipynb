{
 "cells": [
  {
   "cell_type": "markdown",
   "id": "2711b400-2bfe-4dfc-aa5a-2d5208ac4f3a",
   "metadata": {},
   "source": [
    "Data Science Project"
   ]
  },
  {
   "cell_type": "markdown",
   "id": "372525e5-947e-4234-814e-2465c3d94bed",
   "metadata": {},
   "source": [
    "Introduction This is a project for the data science course."
   ]
  },
  {
   "cell_type": "markdown",
   "id": "1fd7d012-6423-43b7-af7b-47e828d43cf2",
   "metadata": {},
   "source": [
    "Data science languages: python,scala,sql,R"
   ]
  },
  {
   "cell_type": "markdown",
   "id": "6dafd5c6-d89b-40ab-90f3-615b29b8cca2",
   "metadata": {},
   "source": [
    "Data Science libraries:Matplotlib,NumPy,TensorFlow,Panda"
   ]
  },
  {
   "cell_type": "markdown",
   "id": "9ca222ad-297a-4b8e-a6e0-cfa4510f6e4e",
   "metadata": {},
   "source": [
    "Data Science Tools\n",
    "| Tool Name        | Description                                                                |\n",
    "|------------------|----------------------------------------------------------------------------|\n",
    "| Jupyter Notebook | web application that allows users to create and share interactive documents|\n",
    "| RStudio          | code editor that comes with syntax highlighting, code completion, and debugging tools|\n",
    "| Apache Hadoop    | open-source framework that enables the processing and storage of large data sets across computer cluster|\n",
    "| Apache Spark     | open-source analytics engine for large-scale data processing and machine learning|\n",
    "| TensorFlow       | free, open-source library for machine learning and artificial intelligence |\n",
    "\n"
   ]
  },
  {
   "cell_type": "markdown",
   "id": "00f60e6f-456a-4f72-9f40-95600c2183fa",
   "metadata": {},
   "source": [
    "Arithmetic Expression Examples\n",
    "few examples of basic arithmetic operations: x+y, x-y, x*y"
   ]
  },
  {
   "cell_type": "code",
   "execution_count": 2,
   "id": "e759f370-02d3-4ec6-ab3d-1415d1f63a2d",
   "metadata": {},
   "outputs": [
    {
     "data": {
      "text/plain": [
       "65"
      ]
     },
     "execution_count": 2,
     "metadata": {},
     "output_type": "execute_result"
    }
   ],
   "source": [
    "a=5\n",
    "b=10\n",
    "\n",
    "answer=a*b+a+b\n",
    "answer"
   ]
  },
  {
   "cell_type": "code",
   "execution_count": 3,
   "id": "83760bcf-12f2-45bc-b5ec-cd864c1a5659",
   "metadata": {},
   "outputs": [
    {
     "data": {
      "text/plain": [
       "2.0"
      ]
     },
     "execution_count": 3,
     "metadata": {},
     "output_type": "execute_result"
    }
   ],
   "source": [
    "hours=2\n",
    "minutes=hours*60\n",
    "minutes"
   ]
  },
  {
   "cell_type": "markdown",
   "id": "4cc8bf46-b31b-4792-924b-003e9c3d98d1",
   "metadata": {},
   "source": [
    "List of objectives are: learn to use jupyter notbeook, learn to add and multiply digits, learn to use markdown"
   ]
  },
  {
   "cell_type": "markdown",
   "id": "9493023e-36e3-43ea-baf1-9b8884c52cee",
   "metadata": {},
   "source": [
    "Author's name : Mahika J"
   ]
  },
  {
   "cell_type": "code",
   "execution_count": null,
   "id": "a7b1b3db-9d1c-4a17-8260-09274cf80214",
   "metadata": {},
   "outputs": [],
   "source": []
  }
 ],
 "metadata": {
  "kernelspec": {
   "display_name": "Python 3 (ipykernel)",
   "language": "python",
   "name": "python3"
  },
  "language_info": {
   "codemirror_mode": {
    "name": "ipython",
    "version": 3
   },
   "file_extension": ".py",
   "mimetype": "text/x-python",
   "name": "python",
   "nbconvert_exporter": "python",
   "pygments_lexer": "ipython3",
   "version": "3.13.0"
  }
 },
 "nbformat": 4,
 "nbformat_minor": 5
}
